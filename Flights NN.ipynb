{
 "cells": [
  {
   "cell_type": "code",
   "execution_count": 1,
   "metadata": {
    "id": "T_VMgkw7DlFk"
   },
   "outputs": [],
   "source": [
    "import pandas as pd\n",
    "import numpy as np"
   ]
  },
  {
   "cell_type": "code",
   "execution_count": 2,
   "metadata": {
    "colab": {
     "base_uri": "https://localhost:8080/"
    },
    "executionInfo": {
     "elapsed": 20775,
     "status": "ok",
     "timestamp": 1614164088366,
     "user": {
      "displayName": "GUDI JYOTHI KRISHNA",
      "photoUrl": "",
      "userId": "10400673482143638092"
     },
     "user_tz": -330
    },
    "id": "peEJhhWYDXfB",
    "outputId": "eb12897d-9012-4fec-9560-84378ac08b50"
   },
   "outputs": [
    {
     "name": "stderr",
     "output_type": "stream",
     "text": [
      "C:\\Apps\\Anaconda3\\lib\\site-packages\\IPython\\core\\interactiveshell.py:3146: DtypeWarning: Columns (7,8) have mixed types.Specify dtype option on import or set low_memory=False.\n",
      "  has_raised = await self.run_ast_nodes(code_ast.body, cell_name,\n"
     ]
    }
   ],
   "source": [
    "data     = pd.read_csv('flights.csv')\n",
    "airports = pd.read_csv(\"airports.csv\")\n",
    "airlines = pd.read_csv(\"airlines.csv\")"
   ]
  },
  {
   "cell_type": "code",
   "execution_count": 3,
   "metadata": {
    "colab": {
     "background_save": true
    },
    "id": "MTIKNhEiDmju"
   },
   "outputs": [],
   "source": [
    "delay_data = data[data['CANCELLED'] == 0].copy()\n",
    "delay_data = delay_data.drop(columns = ['CANCELLED','CANCELLATION_REASON'])\n",
    "delay_data = delay_data[delay_data['DIVERTED'] == 0].copy()\n",
    "delay_data.iloc[:,-5:] = delay_data.iloc[:,-5:].copy().fillna(0)\n",
    "delay_data.loc[delay_data['ARRIVAL_DELAY'] >= 15,'DELAYED'] = 1\n",
    "delay_data.loc[delay_data['ARRIVAL_DELAY'] < 15,'DELAYED'] = 0\n",
    "delay_data = delay_data.drop(columns = ['YEAR','FLIGHT_NUMBER','TAIL_NUMBER','TAXI_OUT','WHEELS_OFF','WHEELS_ON','TAXI_IN','DIVERTED'])"
   ]
  },
  {
   "cell_type": "code",
   "execution_count": 4,
   "metadata": {
    "colab": {
     "base_uri": "https://localhost:8080/"
    },
    "executionInfo": {
     "elapsed": 1240,
     "status": "ok",
     "timestamp": 1614164326431,
     "user": {
      "displayName": "GUDI JYOTHI KRISHNA",
      "photoUrl": "",
      "userId": "10400673482143638092"
     },
     "user_tz": -330
    },
    "id": "rGR-SVXqqIrH",
    "outputId": "5728da7f-495d-45a7-ed62-2d13693febcf"
   },
   "outputs": [
    {
     "data": {
      "text/plain": [
       "0.0    4650569\n",
       "1.0    1063439\n",
       "Name: DELAYED, dtype: int64"
      ]
     },
     "execution_count": 4,
     "metadata": {},
     "output_type": "execute_result"
    }
   ],
   "source": [
    "delay_data['DELAYED'].value_counts()"
   ]
  },
  {
   "cell_type": "code",
   "execution_count": 5,
   "metadata": {
    "id": "5cYTUBS6D_57"
   },
   "outputs": [],
   "source": [
    "# Creating a dataset with AIRLINES as categorical explanatory, SCHEDULED_DEPARTURE as the continuous Explanatory -\n",
    "df = delay_data.copy()[['AIRLINE','SCHEDULED_DEPARTURE','ORIGIN_AIRPORT','DESTINATION_AIRPORT','DELAYED']].copy()"
   ]
  },
  {
   "cell_type": "code",
   "execution_count": 6,
   "metadata": {
    "id": "c1wvwirVFtpS"
   },
   "outputs": [],
   "source": [
    "# One Hot Encoding Cateogorical Data (Airline)\n",
    "from sklearn.model_selection import train_test_split\n",
    "from sklearn.preprocessing import OneHotEncoder\n",
    "from sklearn.preprocessing import LabelEncoder\n",
    "from keras.models import Sequential\n",
    "from keras.layers import Dense"
   ]
  },
  {
   "cell_type": "code",
   "execution_count": 7,
   "metadata": {
    "id": "6GRidigLGKLo"
   },
   "outputs": [],
   "source": [
    "df['ROUTE'] = df['ORIGIN_AIRPORT'].astype(str) + '-' + df['DESTINATION_AIRPORT'].astype(str)"
   ]
  },
  {
   "cell_type": "code",
   "execution_count": 8,
   "metadata": {
    "colab": {
     "base_uri": "https://localhost:8080/"
    },
    "executionInfo": {
     "elapsed": 1265,
     "status": "ok",
     "timestamp": 1614164626509,
     "user": {
      "displayName": "GUDI JYOTHI KRISHNA",
      "photoUrl": "",
      "userId": "10400673482143638092"
     },
     "user_tz": -330
    },
    "id": "KEJ_zpestW8y",
    "outputId": "9eaec271-e953-4ef0-aace-77f1ff6cc5bc"
   },
   "outputs": [
    {
     "data": {
      "text/plain": [
       "Index(['AIRLINE', 'SCHEDULED_DEPARTURE', 'ORIGIN_AIRPORT',\n",
       "       'DESTINATION_AIRPORT', 'DELAYED', 'ROUTE'],\n",
       "      dtype='object')"
      ]
     },
     "execution_count": 8,
     "metadata": {},
     "output_type": "execute_result"
    }
   ],
   "source": [
    "df.columns"
   ]
  },
  {
   "cell_type": "code",
   "execution_count": 9,
   "metadata": {
    "colab": {
     "base_uri": "https://localhost:8080/",
     "height": 424
    },
    "executionInfo": {
     "elapsed": 2182,
     "status": "ok",
     "timestamp": 1614164832271,
     "user": {
      "displayName": "GUDI JYOTHI KRISHNA",
      "photoUrl": "",
      "userId": "10400673482143638092"
     },
     "user_tz": -330
    },
    "id": "_pwIekpzttyA",
    "outputId": "b31db8f8-c3bf-4966-ccba-9610986f3a22"
   },
   "outputs": [
    {
     "data": {
      "text/html": [
       "<div>\n",
       "<style scoped>\n",
       "    .dataframe tbody tr th:only-of-type {\n",
       "        vertical-align: middle;\n",
       "    }\n",
       "\n",
       "    .dataframe tbody tr th {\n",
       "        vertical-align: top;\n",
       "    }\n",
       "\n",
       "    .dataframe thead th {\n",
       "        text-align: right;\n",
       "    }\n",
       "</style>\n",
       "<table border=\"1\" class=\"dataframe\">\n",
       "  <thead>\n",
       "    <tr style=\"text-align: right;\">\n",
       "      <th></th>\n",
       "      <th>AIRLINE</th>\n",
       "      <th>SCHEDULED_DEPARTURE</th>\n",
       "      <th>ORIGIN_AIRPORT</th>\n",
       "      <th>DESTINATION_AIRPORT</th>\n",
       "      <th>DELAYED</th>\n",
       "    </tr>\n",
       "  </thead>\n",
       "  <tbody>\n",
       "    <tr>\n",
       "      <th>0</th>\n",
       "      <td>AS</td>\n",
       "      <td>5</td>\n",
       "      <td>ANC</td>\n",
       "      <td>SEA</td>\n",
       "      <td>0.0</td>\n",
       "    </tr>\n",
       "    <tr>\n",
       "      <th>1</th>\n",
       "      <td>AA</td>\n",
       "      <td>10</td>\n",
       "      <td>LAX</td>\n",
       "      <td>PBI</td>\n",
       "      <td>0.0</td>\n",
       "    </tr>\n",
       "    <tr>\n",
       "      <th>2</th>\n",
       "      <td>US</td>\n",
       "      <td>20</td>\n",
       "      <td>SFO</td>\n",
       "      <td>CLT</td>\n",
       "      <td>0.0</td>\n",
       "    </tr>\n",
       "    <tr>\n",
       "      <th>3</th>\n",
       "      <td>AA</td>\n",
       "      <td>20</td>\n",
       "      <td>LAX</td>\n",
       "      <td>MIA</td>\n",
       "      <td>0.0</td>\n",
       "    </tr>\n",
       "    <tr>\n",
       "      <th>4</th>\n",
       "      <td>AS</td>\n",
       "      <td>25</td>\n",
       "      <td>SEA</td>\n",
       "      <td>ANC</td>\n",
       "      <td>0.0</td>\n",
       "    </tr>\n",
       "    <tr>\n",
       "      <th>...</th>\n",
       "      <td>...</td>\n",
       "      <td>...</td>\n",
       "      <td>...</td>\n",
       "      <td>...</td>\n",
       "      <td>...</td>\n",
       "    </tr>\n",
       "    <tr>\n",
       "      <th>5819074</th>\n",
       "      <td>B6</td>\n",
       "      <td>2359</td>\n",
       "      <td>LAX</td>\n",
       "      <td>BOS</td>\n",
       "      <td>0.0</td>\n",
       "    </tr>\n",
       "    <tr>\n",
       "      <th>5819075</th>\n",
       "      <td>B6</td>\n",
       "      <td>2359</td>\n",
       "      <td>JFK</td>\n",
       "      <td>PSE</td>\n",
       "      <td>0.0</td>\n",
       "    </tr>\n",
       "    <tr>\n",
       "      <th>5819076</th>\n",
       "      <td>B6</td>\n",
       "      <td>2359</td>\n",
       "      <td>JFK</td>\n",
       "      <td>SJU</td>\n",
       "      <td>0.0</td>\n",
       "    </tr>\n",
       "    <tr>\n",
       "      <th>5819077</th>\n",
       "      <td>B6</td>\n",
       "      <td>2359</td>\n",
       "      <td>MCO</td>\n",
       "      <td>SJU</td>\n",
       "      <td>0.0</td>\n",
       "    </tr>\n",
       "    <tr>\n",
       "      <th>5819078</th>\n",
       "      <td>B6</td>\n",
       "      <td>2359</td>\n",
       "      <td>JFK</td>\n",
       "      <td>BQN</td>\n",
       "      <td>0.0</td>\n",
       "    </tr>\n",
       "  </tbody>\n",
       "</table>\n",
       "<p>5714008 rows × 5 columns</p>\n",
       "</div>"
      ],
      "text/plain": [
       "        AIRLINE  SCHEDULED_DEPARTURE ORIGIN_AIRPORT DESTINATION_AIRPORT  \\\n",
       "0            AS                    5            ANC                 SEA   \n",
       "1            AA                   10            LAX                 PBI   \n",
       "2            US                   20            SFO                 CLT   \n",
       "3            AA                   20            LAX                 MIA   \n",
       "4            AS                   25            SEA                 ANC   \n",
       "...         ...                  ...            ...                 ...   \n",
       "5819074      B6                 2359            LAX                 BOS   \n",
       "5819075      B6                 2359            JFK                 PSE   \n",
       "5819076      B6                 2359            JFK                 SJU   \n",
       "5819077      B6                 2359            MCO                 SJU   \n",
       "5819078      B6                 2359            JFK                 BQN   \n",
       "\n",
       "         DELAYED  \n",
       "0            0.0  \n",
       "1            0.0  \n",
       "2            0.0  \n",
       "3            0.0  \n",
       "4            0.0  \n",
       "...          ...  \n",
       "5819074      0.0  \n",
       "5819075      0.0  \n",
       "5819076      0.0  \n",
       "5819077      0.0  \n",
       "5819078      0.0  \n",
       "\n",
       "[5714008 rows x 5 columns]"
      ]
     },
     "execution_count": 9,
     "metadata": {},
     "output_type": "execute_result"
    }
   ],
   "source": [
    "df.drop(['ROUTE'],axis=1)"
   ]
  },
  {
   "cell_type": "code",
   "execution_count": 10,
   "metadata": {
    "id": "q7pgdBB_dXlJ"
   },
   "outputs": [],
   "source": [
    "df = df[['AIRLINE','ROUTE','DELAYED']].astype(str).copy()"
   ]
  },
  {
   "cell_type": "code",
   "execution_count": 11,
   "metadata": {
    "id": "WU9RADzsXKe3"
   },
   "outputs": [],
   "source": [
    "# Defining X and y datasets\n",
    "X = df.iloc[:,:-1]\n",
    "y = df.iloc[:,-1]\n",
    "# y = np.array(y).reshape(len(y),1)\n",
    "\n",
    "# Train-Test split\n",
    "X_train, X_test, y_train, y_test = train_test_split(X, y, test_size=0.33, random_state=1)"
   ]
  },
  {
   "cell_type": "code",
   "execution_count": 12,
   "metadata": {
    "colab": {
     "base_uri": "https://localhost:8080/"
    },
    "executionInfo": {
     "elapsed": 4193,
     "status": "ok",
     "timestamp": 1614165450542,
     "user": {
      "displayName": "GUDI JYOTHI KRISHNA",
      "photoUrl": "",
      "userId": "10400673482143638092"
     },
     "user_tz": -330
    },
    "id": "bRJKCkosunjk",
    "outputId": "742b525b-22a3-4df3-9317-a79eec59c0dd"
   },
   "outputs": [
    {
     "ename": "NameError",
     "evalue": "name 'ohe' is not defined",
     "output_type": "error",
     "traceback": [
      "\u001b[1;31m---------------------------------------------------------------------------\u001b[0m",
      "\u001b[1;31mNameError\u001b[0m                                 Traceback (most recent call last)",
      "\u001b[1;32m<ipython-input-12-b261ad0a9a6d>\u001b[0m in \u001b[0;36m<module>\u001b[1;34m\u001b[0m\n\u001b[1;32m----> 1\u001b[1;33m \u001b[0mohe\u001b[0m\u001b[1;33m.\u001b[0m\u001b[0mfit_transform\u001b[0m\u001b[1;33m(\u001b[0m\u001b[0mnp\u001b[0m\u001b[1;33m.\u001b[0m\u001b[0marray\u001b[0m\u001b[1;33m(\u001b[0m\u001b[0mX\u001b[0m\u001b[1;33m[\u001b[0m\u001b[1;34m'ORIGIN_AIRPORT'\u001b[0m\u001b[1;33m]\u001b[0m\u001b[1;33m.\u001b[0m\u001b[0mastype\u001b[0m\u001b[1;33m(\u001b[0m\u001b[0mstr\u001b[0m\u001b[1;33m)\u001b[0m\u001b[1;33m)\u001b[0m\u001b[1;33m.\u001b[0m\u001b[0mreshape\u001b[0m\u001b[1;33m(\u001b[0m\u001b[1;33m-\u001b[0m\u001b[1;36m1\u001b[0m\u001b[1;33m,\u001b[0m\u001b[1;36m1\u001b[0m\u001b[1;33m)\u001b[0m\u001b[1;33m)\u001b[0m\u001b[1;33m\u001b[0m\u001b[1;33m\u001b[0m\u001b[0m\n\u001b[0m",
      "\u001b[1;31mNameError\u001b[0m: name 'ohe' is not defined"
     ]
    }
   ],
   "source": [
    "ohe.fit_transform(np.array(X['ORIGIN_AIRPORT'].astype(str)).reshape(-1,1))"
   ]
  },
  {
   "cell_type": "code",
   "execution_count": 13,
   "metadata": {
    "id": "ClOH2B73GiEZ"
   },
   "outputs": [],
   "source": [
    "ohe = OneHotEncoder(handle_unknown = 'ignore')\n",
    "le = LabelEncoder()\n",
    "\n",
    "ohe.fit(X_train)\n",
    "le.fit(y_train)\n",
    "\n",
    "X_train_enc = ohe.transform(X_train)\n",
    "X_test_enc = ohe.transform(X_test)\n",
    "y_train_enc = le.transform(y_train)\n",
    "y_test_enc = le.transform(y_test)"
   ]
  },
  {
   "cell_type": "code",
   "execution_count": 14,
   "metadata": {
    "id": "0f3WXVQhJYiw"
   },
   "outputs": [],
   "source": [
    "model = Sequential()"
   ]
  },
  {
   "cell_type": "code",
   "execution_count": 15,
   "metadata": {
    "id": "Tt_cQnQWQ3BR"
   },
   "outputs": [],
   "source": [
    "# define the  model\n",
    "model.add(Dense(10, input_dim=X_train_enc.shape[1], activation='relu', kernel_initializer='he_normal'))\n",
    "model.add(Dense(8,  activation='relu', kernel_initializer='he_normal'))\n",
    "model.add(Dense(7,  activation='relu', kernel_initializer='he_normal'))\n",
    "model.add(Dense(1, activation='sigmoid'))"
   ]
  },
  {
   "cell_type": "code",
   "execution_count": 16,
   "metadata": {
    "colab": {
     "base_uri": "https://localhost:8080/"
    },
    "executionInfo": {
     "elapsed": 69556,
     "status": "ok",
     "timestamp": 1614163366817,
     "user": {
      "displayName": "ASEEM RAGHAV",
      "photoUrl": "",
      "userId": "01193640304115858971"
     },
     "user_tz": -330
    },
    "id": "AcR66Le4RODU",
    "outputId": "b302c718-e804-44b7-bc86-46d0a966a91f"
   },
   "outputs": [
    {
     "name": "stdout",
     "output_type": "stream",
     "text": [
      "3829/3829 [==============================] - 57s 11ms/step - loss: 0.4913 - accuracy: 0.8137\n"
     ]
    },
    {
     "data": {
      "text/plain": [
       "<tensorflow.python.keras.callbacks.History at 0x2ada9f088b0>"
      ]
     },
     "execution_count": 16,
     "metadata": {},
     "output_type": "execute_result"
    }
   ],
   "source": [
    "# compile the keras model\n",
    "model.compile(loss='binary_crossentropy', optimizer='adam', metrics=['accuracy'])\n",
    "\n",
    "# fit the keras model on the dataset\n",
    "model.fit(X_train_enc, y_train_enc, epochs=1, batch_size=1000, verbose=1)\n",
    "\n"
   ]
  },
  {
   "cell_type": "code",
   "execution_count": 17,
   "metadata": {
    "colab": {
     "base_uri": "https://localhost:8080/"
    },
    "executionInfo": {
     "elapsed": 65871,
     "status": "ok",
     "timestamp": 1614163470717,
     "user": {
      "displayName": "ASEEM RAGHAV",
      "photoUrl": "",
      "userId": "01193640304115858971"
     },
     "user_tz": -330
    },
    "id": "JIp3FTBpSdOs",
    "outputId": "227313f6-db08-4595-b1ee-7483cdc63f87"
   },
   "outputs": [
    {
     "name": "stdout",
     "output_type": "stream",
     "text": [
      "58926/58926 [==============================] - 89s 2ms/step - loss: 0.4704 - accuracy: 0.8136\n",
      "Accuracy: 81.36\n"
     ]
    }
   ],
   "source": [
    "# evaluate the keras model\n",
    "_, accuracy = model.evaluate(X_test_enc, y_test_enc, verbose=1)\n",
    "print('Accuracy: %.2f' % (accuracy*100))"
   ]
  },
  {
   "cell_type": "code",
   "execution_count": null,
   "metadata": {
    "id": "DdScJJqvkWGb"
   },
   "outputs": [],
   "source": [
    "df['DELAYED'].sum()/df.shape[0]"
   ]
  },
  {
   "cell_type": "code",
   "execution_count": null,
   "metadata": {
    "colab": {
     "base_uri": "https://localhost:8080/"
    },
    "executionInfo": {
     "elapsed": 1553,
     "status": "ok",
     "timestamp": 1614163483541,
     "user": {
      "displayName": "ASEEM RAGHAV",
      "photoUrl": "",
      "userId": "01193640304115858971"
     },
     "user_tz": -330
    },
    "id": "Yu_2ZWBWnSTB",
    "outputId": "fe66e240-6194-4c08-876b-bf3e81a4d272"
   },
   "outputs": [
    {
     "data": {
      "text/plain": [
       "(5714008, 3)"
      ]
     },
     "execution_count": 14,
     "metadata": {
      "tags": []
     },
     "output_type": "execute_result"
    }
   ],
   "source": [
    "df.shape"
   ]
  },
  {
   "cell_type": "code",
   "execution_count": null,
   "metadata": {
    "id": "sNWHrFBwnXV8"
   },
   "outputs": [],
   "source": [
    "df['DELAYED'].sum()"
   ]
  },
  {
   "cell_type": "code",
   "execution_count": null,
   "metadata": {
    "id": "Rw1TaHl7pDFa"
   },
   "outputs": [],
   "source": []
  }
 ],
 "metadata": {
  "colab": {
   "collapsed_sections": [],
   "name": "Flights NN.ipynb",
   "provenance": []
  },
  "kernelspec": {
   "display_name": "Python 3",
   "language": "python",
   "name": "python3"
  },
  "language_info": {
   "codemirror_mode": {
    "name": "ipython",
    "version": 3
   },
   "file_extension": ".py",
   "mimetype": "text/x-python",
   "name": "python",
   "nbconvert_exporter": "python",
   "pygments_lexer": "ipython3",
   "version": "3.8.5"
  }
 },
 "nbformat": 4,
 "nbformat_minor": 4
}
